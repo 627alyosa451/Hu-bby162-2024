{
  "nbformat": 4,
  "nbformat_minor": 0,
  "metadata": {
    "colab": {
      "provenance": [],
      "authorship_tag": "ABX9TyNu8CvQFl6Ribw8Eotww9O1",
      "include_colab_link": true
    },
    "kernelspec": {
      "name": "python3",
      "display_name": "Python 3"
    },
    "language_info": {
      "name": "python"
    }
  },
  "cells": [
    {
      "cell_type": "markdown",
      "metadata": {
        "id": "view-in-github",
        "colab_type": "text"
      },
      "source": [
        "<a href=\"https://colab.research.google.com/github/627alyosa451/hu-bby-162-2024/blob/main/yaz%C4%B1_tura_hesapla.ipynb\" target=\"_parent\"><img src=\"https://colab.research.google.com/assets/colab-badge.svg\" alt=\"Open In Colab\"/></a>"
      ]
    },
    {
      "cell_type": "code",
      "execution_count": 18,
      "metadata": {
        "colab": {
          "base_uri": "https://localhost:8080/"
        },
        "id": "XUVRkaz_9AKv",
        "outputId": "3cb7698c-c034-4dd8-c6c7-c9736269cd8e"
      },
      "outputs": [
        {
          "output_type": "stream",
          "name": "stdout",
          "text": [
            "yazı\n",
            "\n",
            "Tura=2\n",
            "\n",
            "Yazı=5\n"
          ]
        }
      ],
      "source": [
        "\"\"\"yazı tura hesapla\"\"\"\n",
        "\n",
        "import random\n",
        "\n",
        "rastgele = random.randint(0,1)\n",
        "if rastgele == 0:\n",
        "  print(\"yazı\")\n",
        "elif rastgele == 1:\n",
        "    print(\"tura\")\n",
        "\n",
        "if rastgele == 0:\n",
        "  tura +=1\n",
        "else:\n",
        "  yazı +=1\n",
        "print(\"\")\n",
        "print(\"Tura=\" + (str)(tura))\n",
        "print(\"\")\n",
        "print(\"Yazı=\" + (str)(yazı))\n"
      ]
    }
  ]
}