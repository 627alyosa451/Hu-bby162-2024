{
  "nbformat": 4,
  "nbformat_minor": 0,
  "metadata": {
    "colab": {
      "provenance": [],
      "authorship_tag": "ABX9TyNp8Wfqq6UC/ZrP/X+lH1CK",
      "include_colab_link": true
    },
    "kernelspec": {
      "name": "python3",
      "display_name": "Python 3"
    },
    "language_info": {
      "name": "python"
    }
  },
  "cells": [
    {
      "cell_type": "markdown",
      "metadata": {
        "id": "view-in-github",
        "colab_type": "text"
      },
      "source": [
        "<a href=\"https://colab.research.google.com/github/627alyosa451/hu-bby-162-2024/blob/main/yaz%C4%B1_tura_hesapla.ipynb\" target=\"_parent\"><img src=\"https://colab.research.google.com/assets/colab-badge.svg\" alt=\"Open In Colab\"/></a>"
      ]
    },
    {
      "cell_type": "code",
      "execution_count": 82,
      "metadata": {
        "colab": {
          "base_uri": "https://localhost:8080/",
          "height": 314
        },
        "id": "XUVRkaz_9AKv",
        "outputId": "ebd1b5bc-4948-49aa-eba7-07ef75ae15c9"
      },
      "outputs": [
        {
          "output_type": "stream",
          "name": "stdout",
          "text": [
            "Tura!\n",
            "\n",
            "Yazı:  0 \n",
            "Tura:  1 \n",
            "\n"
          ]
        },
        {
          "output_type": "error",
          "ename": "TypeError",
          "evalue": "'str' object is not callable",
          "traceback": [
            "\u001b[0;31m---------------------------------------------------------------------------\u001b[0m",
            "\u001b[0;31mTypeError\u001b[0m                                 Traceback (most recent call last)",
            "\u001b[0;32m<ipython-input-82-db72ca6af290>\u001b[0m in \u001b[0;36m<cell line: 8>\u001b[0;34m()\u001b[0m\n\u001b[1;32m     15\u001b[0m     \u001b[0myazi\u001b[0m \u001b[0;34m+=\u001b[0m \u001b[0;36m1\u001b[0m\u001b[0;34m\u001b[0m\u001b[0;34m\u001b[0m\u001b[0m\n\u001b[1;32m     16\u001b[0m   \u001b[0mprint\u001b[0m\u001b[0;34m(\u001b[0m\u001b[0;34m\"Yazı: \"\u001b[0m\u001b[0;34m,\u001b[0m \u001b[0myazi\u001b[0m\u001b[0;34m,\u001b[0m \u001b[0;34m\"\\nTura: \"\u001b[0m\u001b[0;34m,\u001b[0m \u001b[0mtura\u001b[0m \u001b[0;34m,\u001b[0m\u001b[0;34m\"\\n\"\u001b[0m\u001b[0;34m)\u001b[0m\u001b[0;34m\u001b[0m\u001b[0;34m\u001b[0m\u001b[0m\n\u001b[0;32m---> 17\u001b[0;31m   \u001b[0muser\u001b[0m \u001b[0;34m=\u001b[0m \u001b[0minput\u001b[0m\u001b[0;34m(\u001b[0m\u001b[0;34m\"do u wanna play again? (type 'y' or 'n')\"\u001b[0m\u001b[0;34m)\u001b[0m\u001b[0;34m\u001b[0m\u001b[0;34m\u001b[0m\u001b[0m\n\u001b[0m\u001b[1;32m     18\u001b[0m   \u001b[0;32mif\u001b[0m \u001b[0muser\u001b[0m \u001b[0;34m==\u001b[0m \u001b[0;34m\"n\"\u001b[0m\u001b[0;34m:\u001b[0m\u001b[0;34m\u001b[0m\u001b[0;34m\u001b[0m\u001b[0m\n\u001b[1;32m     19\u001b[0m     \u001b[0mgame\u001b[0m \u001b[0;34m=\u001b[0m \u001b[0;32mFalse\u001b[0m\u001b[0;34m\u001b[0m\u001b[0;34m\u001b[0m\u001b[0m\n",
            "\u001b[0;31mTypeError\u001b[0m: 'str' object is not callable"
          ]
        }
      ],
      "source": [
        "\"\"\"yazı tura hesapla\"\"\"\n",
        "\n",
        "#colab hata veriyor ama replit'de çalışıyor\n",
        "\n",
        "import random\n",
        "game = True\n",
        "yazi = 0\n",
        "tura = 0\n",
        "\n",
        "while game:\n",
        "  rastgele = random.randint(0,1)\n",
        "  if rastgele == 0:\n",
        "    print(\"Tura!\\n\")\n",
        "    tura += 1\n",
        "  else:\n",
        "    print(\"Yazı!\\n\")\n",
        "    yazi += 1\n",
        "  print(\"Yazı: \", yazi, \"\\nTura: \", tura ,\"\\n\")\n",
        "  user = input(\"do u wanna play again? (type 'y' or 'n')\")\n",
        "  if user == \"n\":\n",
        "    game = False\n",
        ""
      ]
    }
  ]
}