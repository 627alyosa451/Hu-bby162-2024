{
  "nbformat": 4,
  "nbformat_minor": 0,
  "metadata": {
    "colab": {
      "provenance": [],
      "authorship_tag": "ABX9TyMxveRmMIfrD0Lf9gFZZWJi",
      "include_colab_link": true
    },
    "kernelspec": {
      "name": "python3",
      "display_name": "Python 3"
    },
    "language_info": {
      "name": "python"
    }
  },
  "cells": [
    {
      "cell_type": "markdown",
      "metadata": {
        "id": "view-in-github",
        "colab_type": "text"
      },
      "source": [
        "<a href=\"https://colab.research.google.com/github/627alyosa451/hu-bby-162-2024/blob/main/yaz%C4%B1_tura_hesapla.ipynb\" target=\"_parent\"><img src=\"https://colab.research.google.com/assets/colab-badge.svg\" alt=\"Open In Colab\"/></a>"
      ]
    },
    {
      "cell_type": "code",
      "execution_count": 42,
      "metadata": {
        "colab": {
          "base_uri": "https://localhost:8080/"
        },
        "id": "XUVRkaz_9AKv",
        "outputId": "608b886d-9948-4358-8526-5e8c36a0673e"
      },
      "outputs": [
        {
          "output_type": "stream",
          "name": "stdout",
          "text": [
            "tura\n",
            "Tura=5\n",
            "Yazı=4\n"
          ]
        }
      ],
      "source": [
        "\"\"\"github: yeni bir colab not yazı tura programı\"\"\"\n",
        "\n",
        "import random\n",
        "rastgele = random.randint(0,1)\n",
        "if rastgele == 0:\n",
        "  print(\"yazı\")\n",
        "else:\n",
        "    print(\"tura\")\n",
        "if tura == 0 and yazı == 0:\n",
        "  tura = 0\n",
        "  yazı = 0\n",
        "\n",
        "if rastgele == 0:\n",
        "  tura +=1\n",
        "else:\n",
        "  yazı +=1\n",
        "\n",
        "print(\"Tura=\" + (str)(tura))\n",
        "print(\"Yazı=\" + (str)(yazı))\n"
      ]
    }
  ]
}