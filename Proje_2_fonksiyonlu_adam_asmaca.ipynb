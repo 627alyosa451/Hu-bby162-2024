{
  "nbformat": 4,
  "nbformat_minor": 0,
  "metadata": {
    "colab": {
      "provenance": [],
      "authorship_tag": "ABX9TyM34Th/WACH27JFD9ebyodS",
      "include_colab_link": true
    },
    "kernelspec": {
      "name": "python3",
      "display_name": "Python 3"
    },
    "language_info": {
      "name": "python"
    }
  },
  "cells": [
    {
      "cell_type": "markdown",
      "metadata": {
        "id": "view-in-github",
        "colab_type": "text"
      },
      "source": [
        "<a href=\"https://colab.research.google.com/github/627alyosa451/hu-bby162-2024/blob/main/Proje_2_fonksiyonlu_adam_asmaca.ipynb\" target=\"_parent\"><img src=\"https://colab.research.google.com/assets/colab-badge.svg\" alt=\"Open In Colab\"/></a>"
      ]
    },
    {
      "cell_type": "code",
      "execution_count": 3,
      "metadata": {
        "colab": {
          "base_uri": "https://localhost:8080/"
        },
        "collapsed": true,
        "id": "lhCB7keBD32T",
        "outputId": "8bef975c-034a-4bd4-95ed-0ae4016e89ef"
      },
      "outputs": [
        {
          "name": "stdout",
          "output_type": "stream",
          "text": [
            "Bir zorluk seçiniz: Kolay için 'k', orta için 'o', zor için 'z' k\n",
            "['_', '_', '_', '_', '_']\n",
            "Bir harf giriniz: y\n",
            "['y', '_', '_', '_', '_']\n",
            "Kalan can: 7\n",
            "Bir harf giriniz: ü\n",
            "['y', 'ü', '_', '_', '_']\n",
            "Kalan can: 7\n",
            "Bir harf giriniz: z\n",
            "['y', 'ü', 'z', '_', '_']\n",
            "Kalan can: 7\n",
            "Bir harf giriniz: m\n",
            "['y', 'ü', 'z', 'm', '_']\n",
            "Kalan can: 7\n",
            "Bir harf giriniz: e\n",
            "['y', 'ü', 'z', 'm', 'e']\n",
            "Kalan can: 7\n",
            "Kazandınız\n",
            "Yeniden oynamak istiyor musunuz? (evet 'y', hayır 'h')h\n"
          ]
        }
      ],
      "source": [
        "from random import choice\n",
        "def oyun(zorluk):\n",
        "\n",
        "  adamCan = zorluk\n",
        "\n",
        "  kelimeler = [\"bisiklet\", \"triatlon\", \"yüzme\", \"koşu\"]\n",
        "  secilenKelime = choice(kelimeler)\n",
        "  #print(secilenKelime)\n",
        "  dizilenKelime = []\n",
        "  for diz in secilenKelime:\n",
        "      dizilenKelime.append(\"_\")\n",
        "  print(dizilenKelime)\n",
        "\n",
        "  while adamCan > 0:\n",
        "      if \"_\" not in dizilenKelime:\n",
        "        print(\"Kazandınız\")\n",
        "        break\n",
        "      girilenHarf = input(\"Bir harf giriniz: \")\n",
        "      canKontrol = girilenHarf in secilenKelime\n",
        "      if canKontrol == False:\n",
        "          adamCan-=1\n",
        "      i = 0\n",
        "      for kontrol in secilenKelime:\n",
        "          if secilenKelime[i] == girilenHarf:\n",
        "              dizilenKelime[i] = girilenHarf\n",
        "          i+=1\n",
        "      print(dizilenKelime)\n",
        "      print(\"Kalan can: \"+ str(adamCan))\n",
        "\n",
        "while True:\n",
        "  zorluk_girisi = input(\"Bir zorluk seçiniz: Kolay için 'k', orta için 'o', zor için 'z' \").lower()\n",
        "  if zorluk_girisi == 'k':\n",
        "    x = 7\n",
        "  elif zorluk_girisi == 'o':\n",
        "    x = 5\n",
        "  else:\n",
        "    x = 3\n",
        "\n",
        "  oyun(x)\n",
        "\n",
        "  yeniden = input(\"Yeniden oynamak istiyor musunuz? (evet 'y', hayır 'h')\").lower()\n",
        "  if yeniden == \"h\":\n",
        "    break\n"
      ]
    }
  ]
}