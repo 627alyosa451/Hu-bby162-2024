{
  "nbformat": 4,
  "nbformat_minor": 0,
  "metadata": {
    "colab": {
      "provenance": [],
      "authorship_tag": "ABX9TyPG0cxWFwFvtaCVo+aRhmZG",
      "include_colab_link": true
    },
    "kernelspec": {
      "name": "python3",
      "display_name": "Python 3"
    },
    "language_info": {
      "name": "python"
    }
  },
  "cells": [
    {
      "cell_type": "markdown",
      "metadata": {
        "id": "view-in-github",
        "colab_type": "text"
      },
      "source": [
        "<a href=\"https://colab.research.google.com/github/627alyosa451/hu-bby-162-2024/blob/main/sozlukOdevi.ipynb\" target=\"_parent\"><img src=\"https://colab.research.google.com/assets/colab-badge.svg\" alt=\"Open In Colab\"/></a>"
      ]
    },
    {
      "cell_type": "code",
      "execution_count": 2,
      "metadata": {
        "id": "wCJxPHJ-Qs2P"
      },
      "outputs": [],
      "source": [
        "sozluk = {\"retrieval\": \"telafi etme\", \"inference\": \"çıkarım\", \"corporate\": \"tüzel\", \"corpus\": \"koleksiyon\", \"query\": \"sorgu\", \"coincidence\": \"tesadüf\", \"issue\": \"sorun\", \"famine\": \"kıtlık\", \"process\": \"süreç\", \"evolve\": \"evrim geçirmek\", \"treason\": \"ihanet\"\n",
        "}"
      ]
    },
    {
      "cell_type": "code",
      "source": [
        "#Sözlüğün yazdırılması\n",
        "print(sozluk)"
      ],
      "metadata": {
        "colab": {
          "base_uri": "https://localhost:8080/"
        },
        "id": "2x-_oby1QzcN",
        "outputId": "060ec9a4-2988-46b4-9efd-d72eb94b03ea"
      },
      "execution_count": null,
      "outputs": [
        {
          "output_type": "stream",
          "name": "stdout",
          "text": [
            "{'retrieval': 'telafi etme', 'inference': 'çıkarım', 'corporate': 'tüzel', 'corpus': 'koleksiyon', 'query': 'sorgu', 'coincidence': 'tesadüf', 'issue': 'sorun', 'famine': 'kıtlık', 'process': 'süreç', 'evolve': 'evrim geçirmek', 'treason': 'ihanet'}\n"
          ]
        }
      ]
    },
    {
      "cell_type": "code",
      "source": [
        "#Sözlükte arama\n",
        "#aranan = input(\"Sözlükten açıklamasını istediğiniz kelimeyi yazınız: \")\n",
        "#print(sozluk[aranan])\n",
        "aranan = input(\"Sözlükte armak istediğiniz kelimeyi yazınız: \")\n",
        "print(aranan in sozluk)"
      ],
      "metadata": {
        "id": "wStuGw2YEZdh",
        "outputId": "fcdce1ee-ca0b-4a6b-d579-f6e94f41851f",
        "colab": {
          "base_uri": "https://localhost:8080/"
        }
      },
      "execution_count": 3,
      "outputs": [
        {
          "output_type": "stream",
          "name": "stdout",
          "text": [
            "Sözlükte armak istediğiniz kelimeyi yazınızretrieval\n",
            "True\n"
          ]
        }
      ]
    },
    {
      "cell_type": "code",
      "source": [
        "#Sözlüğe yeni kelime ekleme\n",
        "kelime = input(\"Bir kelime giriniz: \")\n",
        "anlam = input(\"Kelimenin anlamını giriniz: \")\n",
        "sozluk[kelime] = anlam\n"
      ],
      "metadata": {
        "colab": {
          "base_uri": "https://localhost:8080/"
        },
        "id": "boXqRsgvQ2XF",
        "outputId": "938feae9-9e3a-45ec-eb22-97e53e59809b"
      },
      "execution_count": null,
      "outputs": [
        {
          "name": "stdout",
          "output_type": "stream",
          "text": [
            "Bir kelime giriniz: lanet\n",
            "Kelimenin anlamını giriniz: curse\n"
          ]
        }
      ]
    },
    {
      "cell_type": "code",
      "source": [
        "#Sözlükten kelime silme\n",
        "print(sozluk)\n",
        "silinecek = input(\"Silmek istediğiniz kelimeyi giriniz: \")\n",
        "print(\"Silinecek kelime\", silinecek)\n",
        "del sozluk[silinecek]\n",
        "print(\"Silme tamamlandı.\")\n",
        "print(sozluk)"
      ],
      "metadata": {
        "colab": {
          "base_uri": "https://localhost:8080/"
        },
        "id": "cnKl4e38R7Ge",
        "outputId": "5a2c704a-ce74-409d-bc17-e2d8f3c9a547"
      },
      "execution_count": null,
      "outputs": [
        {
          "output_type": "stream",
          "name": "stdout",
          "text": [
            "{'retrieval': 'telafi etme', 'inference': 'çıkarım', 'corporate': 'tüzel', 'corpus': 'koleksiyon', 'query': 'sorgu', 'coincidence': 'tesadüf', 'issue': 'sorun', 'famine': 'kıtlık', 'process': 'süreç', 'evolve': 'evrim geçirmek', 'treason': 'ihanet'}\n",
            "Silmek istediğiniz kelimeyi giriniz: retrieval\n",
            "Silinecek kelime retrieval\n",
            "Silme tamamlandı.\n",
            "{'inference': 'çıkarım', 'corporate': 'tüzel', 'corpus': 'koleksiyon', 'query': 'sorgu', 'coincidence': 'tesadüf', 'issue': 'sorun', 'famine': 'kıtlık', 'process': 'süreç', 'evolve': 'evrim geçirmek', 'treason': 'ihanet'}\n"
          ]
        }
      ]
    },
    {
      "cell_type": "code",
      "source": [
        "#Sözlükteki kelimenin anlamını güncelleme\n",
        "print(sozluk)\n",
        "guncel = input(\"Anlamı güncellenecek olan kelimeyi giriniz: \")\n",
        "print(\"Anlamı güncellenecek kelime = \", guncel, \":\", sozluk[guncel])\n",
        "yeni = input(\"Güncel anlamı giriniz: \")\n",
        "sozluk[guncel] = yeni\n",
        "print(\"Güncelleme tamamlandı.\")\n",
        "print(sozluk)"
      ],
      "metadata": {
        "colab": {
          "base_uri": "https://localhost:8080/"
        },
        "id": "ixHhBgBwSnku",
        "outputId": "d99a7c9d-9cc0-4223-dae9-4a6e976da2de"
      },
      "execution_count": null,
      "outputs": [
        {
          "output_type": "stream",
          "name": "stdout",
          "text": [
            "{'retrieval': 'telafi etme', 'inference': 'çıkarım', 'corporate': 'tüzel', 'corpus': 'koleksiyon', 'query': 'sorgu', 'coincidence': 'tesadüf', 'issue': 'sorun', 'famine': 'kıtlık', 'process': 'süreç', 'evolve': 'evrim geçirmek', 'treason': 'ihanet', 'luxk': 'merak'}\n",
            "Anlamı güncellenecek olan kelimeyi giriniz: luxk\n",
            "Anlamı güncellenecek kelime =  luxk : merak\n",
            "Güncel anlamı giriniz: \n",
            "Güncelleme tamamlandı.\n",
            "{'retrieval': 'telafi etme', 'inference': 'çıkarım', 'corporate': 'tüzel', 'corpus': 'koleksiyon', 'query': 'sorgu', 'coincidence': 'tesadüf', 'issue': 'sorun', 'famine': 'kıtlık', 'process': 'süreç', 'evolve': 'evrim geçirmek', 'treason': 'ihanet', 'luxk': ''}\n"
          ]
        }
      ]
    }
  ]
}