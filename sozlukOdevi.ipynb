{
  "nbformat": 4,
  "nbformat_minor": 0,
  "metadata": {
    "colab": {
      "provenance": [],
      "authorship_tag": "ABX9TyODeiBC/qWrZ77+AA5lrGul",
      "include_colab_link": true
    },
    "kernelspec": {
      "name": "python3",
      "display_name": "Python 3"
    },
    "language_info": {
      "name": "python"
    }
  },
  "cells": [
    {
      "cell_type": "markdown",
      "metadata": {
        "id": "view-in-github",
        "colab_type": "text"
      },
      "source": [
        "<a href=\"https://colab.research.google.com/github/627alyosa451/hu-bby-162-2024/blob/main/sozlukOdevi.ipynb\" target=\"_parent\"><img src=\"https://colab.research.google.com/assets/colab-badge.svg\" alt=\"Open In Colab\"/></a>"
      ]
    },
    {
      "cell_type": "code",
      "execution_count": 22,
      "metadata": {
        "id": "wCJxPHJ-Qs2P"
      },
      "outputs": [],
      "source": [
        "sozluk = {}"
      ]
    },
    {
      "cell_type": "code",
      "source": [
        "print(sozluk)"
      ],
      "metadata": {
        "colab": {
          "base_uri": "https://localhost:8080/"
        },
        "id": "2x-_oby1QzcN",
        "outputId": "fedf1f8e-a04e-4e4f-e6dc-a22568131e3b"
      },
      "execution_count": 36,
      "outputs": [
        {
          "output_type": "stream",
          "name": "stdout",
          "text": [
            "{'retrieval': 'telafi etme', 'inference': 'çıkarım', 'corporate': 'tüzel', 'corpus': 'koleksiyon', 'query': 'sorgu', 'coincidence': 'tesadüf', 'issue': 'sorun', 'famine': 'kıtlık', 'process': 'süreç', 'evolve': 'evrim geçirmek'}\n"
          ]
        }
      ]
    },
    {
      "cell_type": "code",
      "source": [
        "#ekleme\n",
        "kelime = input(\"Bir kelime giriniz: \")\n",
        "anlam = input(\"Kelimenin anlamını giriniz: \")\n",
        "sozluk[kelime] = anlam\n"
      ],
      "metadata": {
        "colab": {
          "base_uri": "https://localhost:8080/"
        },
        "id": "boXqRsgvQ2XF",
        "outputId": "22d564d1-c345-4073-c8a3-a03ec7faa6ea"
      },
      "execution_count": 34,
      "outputs": [
        {
          "name": "stdout",
          "output_type": "stream",
          "text": [
            "Bir kelime giriniz: evolve\n",
            "Kelimenin anlamını giriniz: evrim geçirmek\n"
          ]
        }
      ]
    },
    {
      "cell_type": "code",
      "source": [
        "#silme\n",
        "print(sozluk)\n",
        "silinecek = input(\"Silmek istediğiniz kelimeyi giriniz: \")\n",
        "print(\"Silinecek kelime\", silinecek)\n",
        "del sozluk[silinecek]\n",
        "print(\"Silme tamamlandı.\")\n",
        "print(sozluk)"
      ],
      "metadata": {
        "colab": {
          "base_uri": "https://localhost:8080/"
        },
        "id": "cnKl4e38R7Ge",
        "outputId": "a2474ec1-9433-43cd-82fd-d37aa9caf411"
      },
      "execution_count": 17,
      "outputs": [
        {
          "output_type": "stream",
          "name": "stdout",
          "text": [
            "{'data': 'veri', 'information': 'malumat', 'knowledge': 'vukuf'}\n",
            "Silmek istediğiniz kelimeyi giriniz: data\n",
            "Silinecek kelime data\n",
            "Silme tamamlandı.\n",
            "{'information': 'malumat', 'knowledge': 'vukuf'}\n"
          ]
        }
      ]
    },
    {
      "cell_type": "code",
      "source": [
        "#güncelleme\n",
        "print(sozluk)\n",
        "guncel = input(\"Anlamı güncellenecek olan kelimeyi giriniz: \")\n",
        "print(\"Anlamı güncellenecek kelime\", guncel)\n",
        "yeni = input(\"Güncel anlamı giriniz: \")\n",
        "sozluk[guncel] = yeni\n",
        "print(\"Güncelleme tamamlandı.\")\n",
        "print(sozluk)"
      ],
      "metadata": {
        "colab": {
          "base_uri": "https://localhost:8080/"
        },
        "id": "ixHhBgBwSnku",
        "outputId": "081a7a47-5e94-48e6-961d-6cb0ddb73953"
      },
      "execution_count": 20,
      "outputs": [
        {
          "output_type": "stream",
          "name": "stdout",
          "text": [
            "{'information': 'iinformation', 'knowledge': 'vukuf'}\n",
            "Anlamı güncellenecek olan kelimeyi giriniz: information\n",
            "Anlamı güncellenecek kelime information\n",
            "Güncel anlamı giriniz: malumat\n",
            "Güncelleme tamamlandı.\n",
            "{'information': 'malumat', 'knowledge': 'vukuf'}\n"
          ]
        }
      ]
    }
  ]
}