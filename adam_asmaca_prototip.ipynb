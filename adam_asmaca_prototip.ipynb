{
  "nbformat": 4,
  "nbformat_minor": 0,
  "metadata": {
    "colab": {
      "provenance": [],
      "authorship_tag": "ABX9TyNLcc0xWEm9YSfxIVCmkYGh",
      "include_colab_link": true
    },
    "kernelspec": {
      "name": "python3",
      "display_name": "Python 3"
    },
    "language_info": {
      "name": "python"
    }
  },
  "cells": [
    {
      "cell_type": "markdown",
      "metadata": {
        "id": "view-in-github",
        "colab_type": "text"
      },
      "source": [
        "<a href=\"https://colab.research.google.com/github/627alyosa451/hu-bby-162-2024/blob/main/adam_asmaca_prototip.ipynb\" target=\"_parent\"><img src=\"https://colab.research.google.com/assets/colab-badge.svg\" alt=\"Open In Colab\"/></a>"
      ]
    },
    {
      "cell_type": "code",
      "execution_count": null,
      "metadata": {
        "colab": {
          "base_uri": "https://localhost:8080/"
        },
        "id": "F6-H3iITT2Bb",
        "outputId": "fb9742ef-0a7b-40b3-88d6-6814278ec7dc"
      },
      "outputs": [
        {
          "output_type": "stream",
          "name": "stdout",
          "text": [
            "bir harf girin: b\n",
            "['_', '_', '_', '_', '_', '_', '_', '_']\n",
            "bir harf girin: a\n",
            "['_', 'a', '_', '_', '_', '_', 'a', '_']\n"
          ]
        }
      ],
      "source": [
        "liste = [\"alfabe\",\"havuç\", \"patlıcan\", \"portakal\", \"elma\", \"mandalina\", \"muz\", \"masa\", \"sandalye\", \"karpuz\", \"koltuk\", \"kalem\", \"bisiklet\", \"tekerler\" ]\n",
        "\n",
        "import random\n",
        "rast = random.randint(0,2)\n",
        "kelime = liste[rast]\n",
        "\"\"\"çalışıyor\"\"\"\n",
        "yeni_liste = []\n",
        "yeni_liste +='_'* (len(kelime))\n",
        "#tamam\n",
        "game = True\n",
        "while game ==True:\n",
        "  user = input(\"bir harf girin: \")\n",
        "  for _ in range(0,len(kelime)):\n",
        "    if user == kelime[_]:\n",
        "      yeni_liste[_]= user\n",
        "  if '_' in yeni_liste:\n",
        "    game = True\n",
        "  else:\n",
        "    game= False\n",
        "    print(\"u win!\")\n",
        "  print(yeni_liste)"
      ]
    }
  ]
}