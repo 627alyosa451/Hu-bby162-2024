{
  "nbformat": 4,
  "nbformat_minor": 0,
  "metadata": {
    "colab": {
      "provenance": [],
      "authorship_tag": "ABX9TyNo6MUiGZ8D6ouAqj+jYnzz",
      "include_colab_link": true
    },
    "kernelspec": {
      "name": "python3",
      "display_name": "Python 3"
    },
    "language_info": {
      "name": "python"
    }
  },
  "cells": [
    {
      "cell_type": "markdown",
      "metadata": {
        "id": "view-in-github",
        "colab_type": "text"
      },
      "source": [
        "<a href=\"https://colab.research.google.com/github/627alyosa451/hu-bby162-2024/blob/main/kelime_ayiklama.ipynb\" target=\"_parent\"><img src=\"https://colab.research.google.com/assets/colab-badge.svg\" alt=\"Open In Colab\"/></a>"
      ]
    },
    {
      "cell_type": "code",
      "execution_count": 13,
      "metadata": {
        "id": "51OsK9IeXUMa",
        "outputId": "eeb603b4-ad28-48b0-a9ee-4f0954e63900",
        "colab": {
          "base_uri": "https://localhost:8080/"
        }
      },
      "outputs": [
        {
          "output_type": "stream",
          "name": "stdout",
          "text": [
            "Mesaj giriniz: asdkfj ya da şdsakfj\n",
            "asdkfj şdsakfj \n"
          ]
        }
      ],
      "source": [
        "# yasaklı kelimeleri cümleden atan program\n",
        "yKelimeler = [\"ve\", \"ya\", \"da\" , \"belki\", \"ama\", \"ancak\"]\n",
        "\n",
        "cumle = input(\"Mesaj giriniz: \")\n",
        "\n",
        "ayrık_cumle = cumle.split()\n",
        "\n",
        "yeni_cumle = \"\"\n",
        "\n",
        "for i in range(len(yKelimeler)):\n",
        "  if yKelimeler[i] in ayrık_cumle:\n",
        "    ayrık_cumle.remove(yKelimeler[i])\n",
        "\n",
        "for kelime in ayrık_cumle:\n",
        "  yeni_cumle += kelime + \" \"\n",
        "\n",
        "print(yeni_cumle)"
      ]
    }
  ]
}