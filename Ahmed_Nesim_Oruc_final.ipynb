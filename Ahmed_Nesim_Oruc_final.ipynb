{
  "nbformat": 4,
  "nbformat_minor": 0,
  "metadata": {
    "colab": {
      "provenance": [],
      "include_colab_link": true
    },
    "kernelspec": {
      "name": "python3",
      "display_name": "Python 3"
    },
    "language_info": {
      "name": "python"
    }
  },
  "cells": [
    {
      "cell_type": "markdown",
      "metadata": {
        "id": "view-in-github",
        "colab_type": "text"
      },
      "source": [
        "<a href=\"https://colab.research.google.com/github/627alyosa451/hu-bby162-2024/blob/main/Ahmed_Nesim_Oruc_final.ipynb\" target=\"_parent\"><img src=\"https://colab.research.google.com/assets/colab-badge.svg\" alt=\"Open In Colab\"/></a>"
      ]
    },
    {
      "cell_type": "markdown",
      "source": [
        "**Final Sınavına hoşgeldiniz!**"
      ],
      "metadata": {
        "id": "ItmuxWgBbkC1"
      }
    },
    {
      "cell_type": "markdown",
      "source": [
        "Canlı final sınavı, bilgisayar laboratuvarında bilgisayar başında yapılan ve teslim edilen sınavı ifade etmektedir. Canlı final sınavında yazmış olduğunuz kodlar sizin sorumluluğunuzdadır ve gerekirse hangi kodu neden yazdığınızı açık bir şekilde anlatabilmeniz gerekmektedir. Canlı final sınavı sırasında İnternet üzerindeki kaynaklar kullanılabilir ancak başka bir kişiden destek alınamaz.\n",
        "\n",
        "Canlı final sınavının teslim şekli önceki sınav ve projelerin teslim şekli ile aynıdır. \"Final Sınavı\" adlı Colab not defterinin bir kopyasını çıkarmalı, size ait olan bu kopya üzerinde soruları cevaplamalı, GitHub'daki ders deponuza size ait kopyayı yüklemeli ve not defterinin adresini metin alanına yazarak göndermelisiniz.\n",
        "\n",
        "Canlı final sınavının doğru şekilde tamamlanması da sınavın önemli bir parçasıdır. Sınav için gönderdiğiniz adresi kontrol ediniz ve doğru dosyayı depoya yerleştirdiği bizden emin olunuz. Teslim sürecinde yapılan hatalar sınavdan 0 puan almanıza yol açabilir!\n",
        "\n",
        "**Sınav süresi 60 dakikadır!**\n",
        "\n",
        "Önemli Not: Soruları cecaplarken sadece şu ana kadar öğrendiğiniz kod yapılarını kullanmanız gerekmektedir!!!"
      ],
      "metadata": {
        "id": "KGjdjR5RbTgH"
      }
    },
    {
      "cell_type": "markdown",
      "source": [
        "**----- Sorular -----**"
      ],
      "metadata": {
        "id": "zBvdh4s8cOqM"
      }
    },
    {
      "cell_type": "markdown",
      "source": [
        "**Soru 1:** Kod bölümünde yer alan listeyi ekrana aşağıda gösterildiği şekilde \"for\" döngüsü kullanarak yazdırın. Her kelimenin başındaki numara otomatik olarak verilmelidir. (5 Puan)\n",
        "\n",
        "1.   Açık Erişim\n",
        "2.   Açık Bilim\n",
        "3.   Açık Veri\n",
        "4.   Açık Eğitim\n",
        "5.   Açık Kültür"
      ],
      "metadata": {
        "id": "ma0FVqgQiLBe"
      }
    },
    {
      "cell_type": "code",
      "source": [
        "#Soru 1 bu bölümde kodlanmalıdır\n",
        "acikListe = [\"Açık Erişim\", \"Açık Bilim\", \"Açık Veri\", \"Açık Eğitim\", \"Açık Kültür\"]\n",
        "\n",
        "for i in range(len(acikListe)):\n",
        "  print(str(i+1)+ \".\"+ acikListe[i])\n"
      ],
      "metadata": {
        "id": "Fj7wkLMcjp_7",
        "colab": {
          "base_uri": "https://localhost:8080/"
        },
        "outputId": "9d71e221-6d50-404e-ee2e-b5b303affe03"
      },
      "execution_count": null,
      "outputs": [
        {
          "output_type": "stream",
          "name": "stdout",
          "text": [
            "1.Açık Erişim\n",
            "2.Açık Bilim\n",
            "3.Açık Veri\n",
            "4.Açık Eğitim\n",
            "5.Açık Kültür\n"
          ]
        }
      ]
    },
    {
      "cell_type": "markdown",
      "source": [
        "**Soru 2:** Kod bölümünde yer alan boş sözlüğe klavyeden yeni veri ekleyecek kodu yazınız. Yeni veri hem anahtarı (key) hem de anahtara karşılık gelecek değerli (value) içermelidir. Veri girişi yapıldıktan sonra sözlüğün güncel hali de ekrana yazıdırılmalıdır. (5 Puan)"
      ],
      "metadata": {
        "id": "uZDiXJARgK4o"
      }
    },
    {
      "cell_type": "code",
      "source": [
        "#Soru 2 bu bölümde kodlanmalıdır\n",
        "sozluk = {}\n",
        "deger = input(\"Sözlüğe eklencek kelimeyi giriniz: \")\n",
        "aciklama = input(\"Kelimenin açıklamasını giriniz: \")\n",
        "sozluk[deger] = aciklama\n",
        "\n",
        "print(sozluk)"
      ],
      "metadata": {
        "id": "no7Zd1ZCh5U3",
        "colab": {
          "base_uri": "https://localhost:8080/"
        },
        "outputId": "9205a37e-2ab7-43c8-c9ba-82fbcd042b1a"
      },
      "execution_count": null,
      "outputs": [
        {
          "output_type": "stream",
          "name": "stdout",
          "text": [
            "Sözlüğe eklencek kelimeyi giriniz: blue\n",
            "Kelimenin açıklamasını giriniz: mavi\n",
            "{'blue': 'mavi'}\n"
          ]
        }
      ]
    },
    {
      "cell_type": "markdown",
      "source": [
        "**Soru 3:** Herhangi bir metin dosyasında (ör: [veri.txt](https://drive.google.com/file/d/1WVCEET3G3ishvIR-V6lCav7jBgaZLT-o/view?usp=sharing)) satır satır yer alan verileri okuyup ekrana satır satır yazdıracak kodu yazınız. (10 Puan)"
      ],
      "metadata": {
        "id": "HnIqbjcCeNEV"
      }
    },
    {
      "cell_type": "code",
      "source": [
        "#Soru 3 bu bölümde kodlanmalıdır\n",
        "\n",
        "dosya_yolu = \"/content/drive/MyDrive/deneme.txt\"\n",
        "\n",
        "f = open(dosya_yolu, \"r\")\n",
        "\n",
        "for i in (f.readlines()):\n",
        "  print(i)\n",
        "\n",
        "f.close()\n"
      ],
      "metadata": {
        "id": "SjzG5g3ffTyv",
        "colab": {
          "base_uri": "https://localhost:8080/"
        },
        "outputId": "6d8676c4-f465-4a06-8eb2-6603b565b675"
      },
      "execution_count": null,
      "outputs": [
        {
          "output_type": "stream",
          "name": "stdout",
          "text": [
            "asdf\n",
            "\n",
            "asdfsad\n",
            "\n",
            "asdfds\n",
            "\n",
            "asdf\n",
            "\n",
            "asdf\n",
            "\n",
            "asdf\n",
            "\n",
            "asdf\n",
            "\n",
            "asdf\n"
          ]
        }
      ]
    },
    {
      "cell_type": "markdown",
      "source": [
        "**Soru 4:** Verilerin bir TXT dosyasında depolanabileceği basit bir adres defteri oluşturunuz. Adres defterindeki öğeler Ad-Soyad ve e-Posta olacaktır. Bu adres desteri uygulamasında bir menü yapısı (uygulama içinde fonksiyolar) olmalıdır. 1. seçenek adres defterindeki girişleri göstermeli, 2. seçenek adres defterine yeni veri eklemeli, 3. seçenek ise uygulamayı sonlandırmalıdır. (20 Puan)"
      ],
      "metadata": {
        "id": "p49cZFjJcXoS"
      }
    },
    {
      "cell_type": "code",
      "source": [
        "from google.colab import drive\n",
        "drive.mount('/content/drive')"
      ],
      "metadata": {
        "id": "KMGvIY8LGPiw",
        "colab": {
          "base_uri": "https://localhost:8080/"
        },
        "outputId": "b1ddd921-535b-4244-a181-dbafe159932d"
      },
      "execution_count": null,
      "outputs": [
        {
          "output_type": "stream",
          "name": "stdout",
          "text": [
            "Mounted at /content/drive\n"
          ]
        }
      ]
    },
    {
      "cell_type": "code",
      "execution_count": null,
      "metadata": {
        "id": "3whYCDz3a8QZ",
        "colab": {
          "base_uri": "https://localhost:8080/"
        },
        "outputId": "7d4170f9-5121-4f87-e201-f195fe02dcfd"
      },
      "outputs": [
        {
          "output_type": "stream",
          "name": "stdout",
          "text": [
            "Dosya oluşturmak için: '1'\n",
            "Yeni kayıt eklemek için: '2'\n",
            "İçeriği okumak için: '3'\n",
            "Çıkmak için: '4'\n",
            "3\n",
            "aleksey karamazov - alyosa@asdf.com\n",
            "\n",
            "uğurlu - ugurlu@asdf.com\n",
            "\n",
            "Dosya oluşturmak için: '1'\n",
            "Yeni kayıt eklemek için: '2'\n",
            "İçeriği okumak için: '3'\n",
            "Çıkmak için: '4'\n",
            "1\n",
            "AdresDefteri.txt dosyasını oluşturmak istiyor musunuz? (Eğer dosya mevcutsa içindekiler silinecektir) Evet: 'E', Hayır: 'H' e\n",
            "Dosya oluşturmak için: '1'\n",
            "Yeni kayıt eklemek için: '2'\n",
            "İçeriği okumak için: '3'\n",
            "Çıkmak için: '4'\n",
            "3\n",
            "Dosya oluşturmak için: '1'\n",
            "Yeni kayıt eklemek için: '2'\n",
            "İçeriği okumak için: '3'\n",
            "Çıkmak için: '4'\n",
            "2\n",
            "Adınızı soyadınızı giriniz: aleksey\n",
            "E-posta adresinizi giriniz: alyosa@627.com\n",
            "Dosya oluşturmak için: '1'\n",
            "Yeni kayıt eklemek için: '2'\n",
            "İçeriği okumak için: '3'\n",
            "Çıkmak için: '4'\n",
            "3\n",
            "aleksey - alyosa@627.com\n",
            "\n",
            "Dosya oluşturmak için: '1'\n",
            "Yeni kayıt eklemek için: '2'\n",
            "İçeriği okumak için: '3'\n",
            "Çıkmak için: '4'\n",
            "4\n",
            "Çıkılıyor...\n"
          ]
        }
      ],
      "source": [
        "#Soru 4 bu bölümde kodlanmalıdır\n",
        "\n",
        "dosya = \"/content/drive/MyDrive/adresDefteri.txt\"\n",
        "def olustur():\n",
        "  sistem = open(dosya, \"w\")\n",
        "  sistem.close()\n",
        "\n",
        "\n",
        "def oku():\n",
        "  dosyaOku = open(dosya, \"r\")\n",
        "\n",
        "  for satir in dosyaOku.readlines():\n",
        "    print(satir)\n",
        "\n",
        "  dosyaOku.close()\n",
        "\n",
        "def ekle():\n",
        "  adSoyad = input(\"Adınızı soyadınızı giriniz: \")\n",
        "  ePosta = input(\"E-posta adresinizi giriniz: \")\n",
        "\n",
        "  dosyaYaz = open(dosya, \"a\")\n",
        "  dosyaYaz.write(adSoyad+\" - \"+ePosta+\"\\n\")\n",
        "  dosyaYaz.close()\n",
        "\n",
        "\n",
        "\n",
        "\n",
        "while True:\n",
        "  user = input(\"Dosya oluşturmak için(dosya mevcut değilse önce bu işlemi yapmalısınız): '1'\\nYeni kayıt eklemek için: '2'\\nİçeriği okumak için: '3'\\nÇıkmak için: '4'\\n\")\n",
        "  if user == \"1\":\n",
        "    kontrol = input(\"AdresDefteri.txt dosyasını oluşturmak istiyor musunuz? (Eğer dosya mevcutsa içindekiler silinecektir) Evet: 'E', Hayır: 'H' \").lower()\n",
        "    if kontrol == \"e\":\n",
        "      olustur()\n",
        "\n",
        "  if user == \"2\":\n",
        "    ekle()\n",
        "\n",
        "  if user == \"3\":\n",
        "    oku()\n",
        "\n",
        "  if user == \"4\":\n",
        "    print(\"Çıkılıyor...\")\n",
        "    break\n",
        "\n"
      ]
    }
  ]
}